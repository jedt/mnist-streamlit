{
 "cells": [
  {
   "cell_type": "code",
   "execution_count": 1,
   "id": "db7f1bac",
   "metadata": {
    "ExecuteTime": {
     "end_time": "2024-01-22T13:38:39.796904Z",
     "start_time": "2024-01-22T13:38:39.793241Z"
    }
   },
   "outputs": [],
   "source": [
    "import torch\n",
    "import torch.nn.functional as F\n",
    "from torchvision.datasets import mnist\n",
    "from torch.utils.data import DataLoader\n",
    "import torchvision.transforms as transforms\n",
    "from model import get_model\n",
    "import matplotlib.pyplot as plt"
   ]
  },
  {
   "cell_type": "code",
   "execution_count": 2,
   "id": "e83013cc",
   "metadata": {
    "ExecuteTime": {
     "end_time": "2024-01-22T13:38:40.458622Z",
     "start_time": "2024-01-22T13:38:40.455152Z"
    }
   },
   "outputs": [],
   "source": [
    "transform = transforms.Compose(\n",
    "    [\n",
    "        transforms.ToTensor(),\n",
    "        transforms.Normalize((0.1307,), (0.3081,)),\n",
    "    ]\n",
    ")"
   ]
  },
  {
   "cell_type": "markdown",
   "id": "56f34a69",
   "metadata": {},
   "source": [
    "## Download the MNIST \n",
    "\n",
    "MNIST is considered the hello world of ML"
   ]
  },
  {
   "cell_type": "code",
   "execution_count": 3,
   "id": "a2c1d150",
   "metadata": {
    "ExecuteTime": {
     "end_time": "2024-01-22T13:38:41.840056Z",
     "start_time": "2024-01-22T13:38:41.816840Z"
    }
   },
   "outputs": [],
   "source": [
    "batch_size = 256\n",
    "train_dataset = mnist.MNIST(\n",
    "    root=\"./dataset\", train=True, download=True, transform=transform\n",
    ")\n",
    "test_dataset = mnist.MNIST(root=\"./dataset\", train=False, transform=transform)"
   ]
  },
  {
   "cell_type": "markdown",
   "id": "a499f465",
   "metadata": {},
   "source": [
    "## Load the training set"
   ]
  },
  {
   "cell_type": "code",
   "execution_count": 4,
   "id": "7ed5c8ef",
   "metadata": {
    "ExecuteTime": {
     "end_time": "2024-01-22T13:38:42.957895Z",
     "start_time": "2024-01-22T13:38:42.955208Z"
    }
   },
   "outputs": [],
   "source": [
    "train_loader = DataLoader(train_dataset, batch_size=batch_size)\n",
    "test_loader = DataLoader(test_dataset, batch_size=batch_size)"
   ]
  },
  {
   "cell_type": "code",
   "execution_count": 5,
   "id": "a6b6f79fcd4c3edc",
   "metadata": {
    "ExecuteTime": {
     "end_time": "2024-01-22T13:38:43.771334Z",
     "start_time": "2024-01-22T13:38:43.766823Z"
    }
   },
   "outputs": [],
   "source": [
    "training_data = train_loader.dataset"
   ]
  },
  {
   "cell_type": "markdown",
   "id": "dae6e994",
   "metadata": {},
   "source": [
    "## Sample the training set\n",
    "The training set is a 70,000 small images of handwritten digits. To sample the data use the `dataset`\n",
    " \n",
    "`img, label = training_data[sample_idx]`"
   ]
  },
  {
   "cell_type": "code",
   "execution_count": 6,
   "id": "1e126cc298566c43",
   "metadata": {
    "ExecuteTime": {
     "end_time": "2024-01-22T13:38:45.212577Z",
     "start_time": "2024-01-22T13:38:45.150247Z"
    }
   },
   "outputs": [
    {
     "data": {
      "image/png": "[encoded data removed]",
      "text/plain": [
       "<Figure size 800x800 with 1 Axes>"
      ]
     },
     "metadata": {},
     "output_type": "display_data"
    }
   ],
   "source": [
    "figure = plt.figure(figsize=(8, 8))\n",
    "sample_idx = torch.randint(len(training_data), size=(1,)).item()\n",
    "img, label = training_data[sample_idx]\n",
    "plt.title(f'Label: {label}')  # Set the title to the current label\n",
    "plt.axis(\"off\")\n",
    "plt.imshow(img.squeeze(), cmap=\"gray\")\n",
    "plt.show()"
   ]
  },
  {
   "cell_type": "code",
   "execution_count": 7,
   "id": "52d234e428722490",
   "metadata": {
    "ExecuteTime": {
     "end_time": "2024-01-22T13:38:46.293420Z",
     "start_time": "2024-01-22T13:38:45.984586Z"
    }
   },
   "outputs": [
    {
     "data": {
      "image/png": "[encoded data removed]",
      "text/plain": [
       "<Figure size 800x800 with 9 Axes>"
      ]
     },
     "metadata": {},
     "output_type": "display_data"
    }
   ],
   "source": [
    "# Create a figure with subplots\n",
    "figure = plt.figure(figsize=(8, 8))\n",
    "cols, rows = 3, 3\n",
    "for i in range(1, cols * rows + 1):\n",
    "    sample_idx = torch.randint(len(training_data), size=(1,)).item()\n",
    "    img, label = training_data[sample_idx]\n",
    "    figure.add_subplot(rows, cols, i)\n",
    "    plt.title(f'Label: {label}')  # Set the title to the current label\n",
    "    plt.axis(\"off\")\n",
    "    plt.imshow(img.squeeze(), cmap=\"gray\")\n",
    "plt.show()"
   ]
  },
  {
   "cell_type": "code",
   "execution_count": 8,
   "id": "6844ba9adc73142",
   "metadata": {
    "ExecuteTime": {
     "end_time": "2024-01-22T13:38:49.249690Z",
     "start_time": "2024-01-22T13:38:49.246287Z"
    }
   },
   "outputs": [],
   "source": [
    "def train(model, device, train_loader, optimizer, epoch):\n",
    "    model.train()\n",
    "    epoch_loss = 0\n",
    "    correct = 0\n",
    "    total = 0\n",
    "    for batch_idx, (data, target) in enumerate(train_loader):\n",
    "        data, target = data.to(device), target.to(device)\n",
    "        optimizer.zero_grad()\n",
    "        output = model(data)\n",
    "        loss = F.nll_loss(output, target)\n",
    "        loss.backward()\n",
    "        optimizer.step()\n",
    "\n",
    "        epoch_loss += loss.item()\n",
    "        predicted = output.argmax(\n",
    "            dim=1, keepdim=True\n",
    "        )\n",
    "        correct += predicted.eq(target.view_as(predicted)).sum().item()\n",
    "        total += target.size(0)\n",
    "\n",
    "    epoch_loss /= len(train_loader)\n",
    "    epoch_accuracy = 100.0 * correct / total\n",
    "    print(\n",
    "        \"Train Epoch: {} \\tAverage Loss: {:.6f}\\tAccuracy: {:.2f}%\".format(\n",
    "            epoch, epoch_loss, epoch_accuracy\n",
    "        )\n",
    "    )"
   ]
  },
  {
   "cell_type": "markdown",
   "id": "427e9b89eead6597",
   "metadata": {},
   "source": [
    "## Load the pytorch CNN Model"
   ]
  },
  {
   "cell_type": "code",
   "execution_count": 9,
   "id": "7b4c04270b737f47",
   "metadata": {
    "ExecuteTime": {
     "end_time": "2024-01-22T13:38:50.316082Z",
     "start_time": "2024-01-22T13:38:50.312795Z"
    }
   },
   "outputs": [],
   "source": [
    "Net = get_model()"
   ]
  },
  {
   "cell_type": "markdown",
   "id": "c63ee0cfac513f6c",
   "metadata": {},
   "source": [
    "## Set the Device\n",
    "\n",
    "- torch.device(\"mps\") - if you have a Macbook M1\n",
    "- torch.device(\"cuda\") - if you have nvidia GPU, else\n",
    "- torch.device(\"cpu\") - cpu = takes more than 1 hr if 40 epochs "
   ]
  },
  {
   "cell_type": "code",
   "execution_count": 10,
   "id": "d02687a9",
   "metadata": {
    "ExecuteTime": {
     "end_time": "2024-01-22T13:38:52.983830Z",
     "start_time": "2024-01-22T13:38:52.980468Z"
    }
   },
   "outputs": [
    {
     "data": {
      "text/plain": [
       "device(type='mps')"
      ]
     },
     "execution_count": 10,
     "metadata": {},
     "output_type": "execute_result"
    }
   ],
   "source": [
    "device = \"cpu\"\n",
    "if not torch.backends.mps.is_available():\n",
    "    if torch.backends.cuda.is_avaiable():\n",
    "        device = \"cuda\"\n",
    "else:\n",
    "    device = torch.device(\"mps\")\n",
    "    \n",
    "device"
   ]
  },
  {
   "cell_type": "code",
   "execution_count": 11,
   "id": "b4c3c5a2e6c5df32",
   "metadata": {
    "ExecuteTime": {
     "end_time": "2024-01-22T13:38:53.680376Z",
     "start_time": "2024-01-22T13:38:53.564341Z"
    }
   },
   "outputs": [],
   "source": [
    "model = Net().to(device)"
   ]
  },
  {
   "cell_type": "markdown",
   "id": "a68ba0a76dbfafc1",
   "metadata": {},
   "source": [
    "## Setup the Adam as the stochastic gradient descent algorithm"
   ]
  },
  {
   "cell_type": "code",
   "execution_count": 12,
   "id": "f2ce1f83",
   "metadata": {
    "ExecuteTime": {
     "end_time": "2024-01-22T13:38:54.478196Z",
     "start_time": "2024-01-22T13:38:54.475512Z"
    }
   },
   "outputs": [],
   "source": [
    "optimizer = torch.optim.Adam(model.parameters(), lr=0.001, weight_decay=1e-5)"
   ]
  },
  {
   "cell_type": "code",
   "execution_count": 13,
   "id": "2475e7f0",
   "metadata": {
    "ExecuteTime": {
     "end_time": "2024-01-22T13:42:48.448736Z",
     "start_time": "2024-01-22T13:38:54.805469Z"
    }
   },
   "outputs": [
    {
     "name": "stdout",
     "output_type": "stream",
     "text": [
      "Train Epoch: 1 \tAverage Loss: 0.289801\tAccuracy: 91.18%\n",
      "Train Epoch: 2 \tAverage Loss: 0.094221\tAccuracy: 97.19%\n",
      "Train Epoch: 3 \tAverage Loss: 0.072661\tAccuracy: 97.82%\n",
      "Train Epoch: 4 \tAverage Loss: 0.057466\tAccuracy: 98.23%\n",
      "Train Epoch: 5 \tAverage Loss: 0.049996\tAccuracy: 98.47%\n",
      "Train Epoch: 6 \tAverage Loss: 0.044254\tAccuracy: 98.62%\n",
      "Train Epoch: 7 \tAverage Loss: 0.039765\tAccuracy: 98.74%\n",
      "Train Epoch: 8 \tAverage Loss: 0.034701\tAccuracy: 98.89%\n",
      "Train Epoch: 9 \tAverage Loss: 0.031049\tAccuracy: 99.07%\n",
      "Train Epoch: 10 \tAverage Loss: 0.027641\tAccuracy: 99.11%\n",
      "Train Epoch: 11 \tAverage Loss: 0.026495\tAccuracy: 99.13%\n",
      "Train Epoch: 12 \tAverage Loss: 0.025443\tAccuracy: 99.17%\n",
      "Train Epoch: 13 \tAverage Loss: 0.022547\tAccuracy: 99.21%\n",
      "Train Epoch: 14 \tAverage Loss: 0.022025\tAccuracy: 99.25%\n",
      "Train Epoch: 15 \tAverage Loss: 0.021743\tAccuracy: 99.29%\n",
      "Train Epoch: 16 \tAverage Loss: 0.019869\tAccuracy: 99.33%\n",
      "Train Epoch: 17 \tAverage Loss: 0.020512\tAccuracy: 99.33%\n",
      "Train Epoch: 18 \tAverage Loss: 0.018959\tAccuracy: 99.33%\n",
      "Train Epoch: 19 \tAverage Loss: 0.017660\tAccuracy: 99.40%\n",
      "Train Epoch: 20 \tAverage Loss: 0.017911\tAccuracy: 99.39%\n",
      "Train Epoch: 21 \tAverage Loss: 0.016603\tAccuracy: 99.41%\n",
      "Train Epoch: 22 \tAverage Loss: 0.015344\tAccuracy: 99.49%\n",
      "Train Epoch: 23 \tAverage Loss: 0.014925\tAccuracy: 99.53%\n",
      "Train Epoch: 24 \tAverage Loss: 0.014006\tAccuracy: 99.52%\n",
      "Train Epoch: 25 \tAverage Loss: 0.015309\tAccuracy: 99.50%\n",
      "Train Epoch: 26 \tAverage Loss: 0.015257\tAccuracy: 99.48%\n",
      "Train Epoch: 27 \tAverage Loss: 0.015263\tAccuracy: 99.49%\n",
      "Train Epoch: 28 \tAverage Loss: 0.013990\tAccuracy: 99.52%\n",
      "Train Epoch: 29 \tAverage Loss: 0.013906\tAccuracy: 99.53%\n",
      "Train Epoch: 30 \tAverage Loss: 0.012379\tAccuracy: 99.59%\n",
      "Train Epoch: 31 \tAverage Loss: 0.012671\tAccuracy: 99.57%\n",
      "Train Epoch: 32 \tAverage Loss: 0.011384\tAccuracy: 99.62%\n",
      "Train Epoch: 33 \tAverage Loss: 0.014163\tAccuracy: 99.52%\n",
      "Train Epoch: 34 \tAverage Loss: 0.012905\tAccuracy: 99.56%\n",
      "Train Epoch: 35 \tAverage Loss: 0.011258\tAccuracy: 99.59%\n",
      "Train Epoch: 36 \tAverage Loss: 0.012829\tAccuracy: 99.56%\n",
      "Train Epoch: 37 \tAverage Loss: 0.010372\tAccuracy: 99.62%\n",
      "Train Epoch: 38 \tAverage Loss: 0.012161\tAccuracy: 99.57%\n",
      "Train Epoch: 39 \tAverage Loss: 0.011803\tAccuracy: 99.58%\n",
      "Train Epoch: 40 \tAverage Loss: 0.010813\tAccuracy: 99.62%\n"
     ]
    }
   ],
   "source": [
    "num_epochs = 40\n",
    "for epoch in range(1, num_epochs + 1):\n",
    "    train(model, device, train_loader, optimizer, epoch)\n",
    "\n",
    "model.to(device)\n",
    "torch.save(model.state_dict(), \"model/mnist.pth\")"
   ]
  },
  {
   "cell_type": "code",
   "execution_count": null,
   "id": "432512989af17d2",
   "metadata": {},
   "outputs": [],
   "source": []
  }
 ],
 "metadata": {
  "kernelspec": {
   "display_name": "Python 3 (ipykernel)",
   "language": "python",
   "name": "python3"
  },
  "language_info": {
   "codemirror_mode": {
    "name": "ipython",
    "version": 3
   },
   "file_extension": ".py",
   "mimetype": "text/x-python",
   "name": "python",
   "nbconvert_exporter": "python",
   "pygments_lexer": "ipython3",
   "version": "3.11.4"
  }
 },
 "nbformat": 4,
 "nbformat_minor": 5
}
