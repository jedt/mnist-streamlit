{
 "cells": [
  {
   "cell_type": "code",
   "execution_count": 57,
   "id": "db7f1bac",
   "metadata": {},
   "outputs": [],
   "source": [
    "import torchvision.transforms as transforms\n",
    "import torch\n",
    "import torch.nn as nn\n",
    "import torch.nn.functional as F\n",
    "from torchvision.datasets import mnist\n",
    "from torch.utils.data import DataLoader\n",
    "import torchvision.transforms as transforms\n",
    "from model import get_model"
   ]
  },
  {
   "cell_type": "code",
   "execution_count": 58,
   "id": "e83013cc",
   "metadata": {},
   "outputs": [],
   "source": [
    "transform = transforms.Compose(\n",
    "    [\n",
    "        transforms.ToTensor(),\n",
    "        transforms.Normalize((0.1307,), (0.3081,)),\n",
    "    ]\n",
    ")"
   ]
  },
  {
   "cell_type": "markdown",
   "id": "56f34a69",
   "metadata": {},
   "source": [
    "## Download the MNIST dataset"
   ]
  },
  {
   "cell_type": "code",
   "execution_count": 59,
   "id": "a2c1d150",
   "metadata": {},
   "outputs": [],
   "source": [
    "batch_size = 256\n",
    "train_dataset = mnist.MNIST(\n",
    "    root=\"./dataset\", train=True, download=True, transform=transform\n",
    ")\n",
    "test_dataset = mnist.MNIST(root=\"./dataset\", train=False, transform=transform)"
   ]
  },
  {
   "cell_type": "markdown",
   "id": "a499f465",
   "metadata": {},
   "source": [
    "## Load the train set"
   ]
  },
  {
   "cell_type": "code",
   "execution_count": 60,
   "id": "7ed5c8ef",
   "metadata": {},
   "outputs": [],
   "source": [
    "train_loader = DataLoader(train_dataset, batch_size=batch_size)"
   ]
  },
  {
   "cell_type": "markdown",
   "id": "dae6e994",
   "metadata": {},
   "source": [
    "## Load the test set"
   ]
  },
  {
   "cell_type": "code",
   "execution_count": 61,
   "id": "18bdf07c",
   "metadata": {},
   "outputs": [],
   "source": [
    "test_loader = DataLoader(test_dataset, batch_size=batch_size)"
   ]
  },
  {
   "cell_type": "code",
   "execution_count": 62,
   "id": "d02687a9",
   "metadata": {},
   "outputs": [],
   "source": [
    "Net = get_model()\n",
    "device = torch.device(\"mps\")\n",
    "model = Net().to(device)"
   ]
  },
  {
   "cell_type": "code",
   "execution_count": 63,
   "id": "9074762f",
   "metadata": {},
   "outputs": [],
   "source": [
    "train_losses = []"
   ]
  },
  {
   "cell_type": "code",
   "execution_count": 64,
   "id": "1f44e6f5",
   "metadata": {},
   "outputs": [],
   "source": [
    "def train(model, device, train_loader, optimizer, epoch):\n",
    "    model.train()\n",
    "    epoch_loss = 0\n",
    "    correct = 0\n",
    "    total = 0\n",
    "    for batch_idx, (data, target) in enumerate(train_loader):\n",
    "        data, target = data.to(device), target.to(device)\n",
    "        optimizer.zero_grad()\n",
    "        output = model(data)\n",
    "        loss = F.nll_loss(output, target)\n",
    "        loss.backward()\n",
    "        optimizer.step()\n",
    "\n",
    "        epoch_loss += loss.item()\n",
    "        predicted = output.argmax(\n",
    "            dim=1, keepdim=True\n",
    "        )  # get the index of the max log-probability\n",
    "        correct += predicted.eq(target.view_as(predicted)).sum().item()\n",
    "        total += target.size(0)\n",
    "\n",
    "    epoch_loss /= len(train_loader)\n",
    "    epoch_accuracy = 100.0 * correct / total\n",
    "    print(\n",
    "        \"Train Epoch: {} \\tAverage Loss: {:.6f}\\tAccuracy: {:.2f}%\".format(\n",
    "            epoch, epoch_loss, epoch_accuracy\n",
    "        )\n",
    "    )"
   ]
  },
  {
   "cell_type": "code",
   "execution_count": 65,
   "id": "f2ce1f83",
   "metadata": {},
   "outputs": [],
   "source": [
    "optimizer = optim.Adam(model.parameters(), lr=0.001, weight_decay=1e-5)"
   ]
  },
  {
   "cell_type": "code",
   "execution_count": 66,
   "id": "2475e7f0",
   "metadata": {},
   "outputs": [
    {
     "name": "stdout",
     "output_type": "stream",
     "text": [
      "Train Epoch: 1 \tAverage Loss: 0.293752\tAccuracy: 90.90%\n",
      "Train Epoch: 2 \tAverage Loss: 0.095086\tAccuracy: 97.23%\n",
      "Train Epoch: 3 \tAverage Loss: 0.070231\tAccuracy: 97.92%\n",
      "Train Epoch: 4 \tAverage Loss: 0.056409\tAccuracy: 98.28%\n",
      "Train Epoch: 5 \tAverage Loss: 0.049109\tAccuracy: 98.47%\n",
      "Train Epoch: 6 \tAverage Loss: 0.041312\tAccuracy: 98.71%\n",
      "Train Epoch: 7 \tAverage Loss: 0.038316\tAccuracy: 98.80%\n",
      "Train Epoch: 8 \tAverage Loss: 0.033667\tAccuracy: 98.90%\n",
      "Train Epoch: 9 \tAverage Loss: 0.030488\tAccuracy: 99.04%\n",
      "Train Epoch: 10 \tAverage Loss: 0.027102\tAccuracy: 99.11%\n",
      "Train Epoch: 11 \tAverage Loss: 0.025441\tAccuracy: 99.15%\n",
      "Train Epoch: 12 \tAverage Loss: 0.024146\tAccuracy: 99.22%\n",
      "Train Epoch: 13 \tAverage Loss: 0.024450\tAccuracy: 99.20%\n",
      "Train Epoch: 14 \tAverage Loss: 0.022286\tAccuracy: 99.27%\n",
      "Train Epoch: 15 \tAverage Loss: 0.021227\tAccuracy: 99.30%\n",
      "Train Epoch: 16 \tAverage Loss: 0.019786\tAccuracy: 99.38%\n",
      "Train Epoch: 17 \tAverage Loss: 0.018641\tAccuracy: 99.39%\n",
      "Train Epoch: 18 \tAverage Loss: 0.017780\tAccuracy: 99.39%\n",
      "Train Epoch: 19 \tAverage Loss: 0.017248\tAccuracy: 99.43%\n",
      "Train Epoch: 20 \tAverage Loss: 0.017607\tAccuracy: 99.41%\n",
      "Train Epoch: 21 \tAverage Loss: 0.016026\tAccuracy: 99.41%\n",
      "Train Epoch: 22 \tAverage Loss: 0.015134\tAccuracy: 99.50%\n",
      "Train Epoch: 23 \tAverage Loss: 0.015014\tAccuracy: 99.48%\n",
      "Train Epoch: 24 \tAverage Loss: 0.014286\tAccuracy: 99.51%\n",
      "Train Epoch: 25 \tAverage Loss: 0.014279\tAccuracy: 99.53%\n",
      "Train Epoch: 26 \tAverage Loss: 0.013898\tAccuracy: 99.52%\n",
      "Train Epoch: 27 \tAverage Loss: 0.013799\tAccuracy: 99.50%\n",
      "Train Epoch: 28 \tAverage Loss: 0.014195\tAccuracy: 99.49%\n",
      "Train Epoch: 29 \tAverage Loss: 0.013661\tAccuracy: 99.53%\n",
      "Train Epoch: 30 \tAverage Loss: 0.012775\tAccuracy: 99.59%\n",
      "Train Epoch: 31 \tAverage Loss: 0.011657\tAccuracy: 99.60%\n",
      "Train Epoch: 32 \tAverage Loss: 0.012058\tAccuracy: 99.58%\n",
      "Train Epoch: 33 \tAverage Loss: 0.012226\tAccuracy: 99.56%\n",
      "Train Epoch: 34 \tAverage Loss: 0.011794\tAccuracy: 99.61%\n",
      "Train Epoch: 35 \tAverage Loss: 0.011339\tAccuracy: 99.56%\n",
      "Train Epoch: 36 \tAverage Loss: 0.012757\tAccuracy: 99.54%\n",
      "Train Epoch: 37 \tAverage Loss: 0.010775\tAccuracy: 99.63%\n",
      "Train Epoch: 38 \tAverage Loss: 0.010084\tAccuracy: 99.67%\n",
      "Train Epoch: 39 \tAverage Loss: 0.010825\tAccuracy: 99.61%\n",
      "Train Epoch: 40 \tAverage Loss: 0.010398\tAccuracy: 99.64%\n"
     ]
    }
   ],
   "source": [
    "num_epochs = 40\n",
    "for epoch in range(1, num_epochs + 1):\n",
    "    train(model, device, train_loader, optimizer, epoch)\n",
    "\n",
    "model.to(device)\n",
    "torch.save(model.state_dict(), \"model/mnist.pth\")"
   ]
  },
  {
   "cell_type": "code",
   "execution_count": null,
   "id": "8b224e90",
   "metadata": {},
   "outputs": [],
   "source": []
  }
 ],
 "metadata": {
  "kernelspec": {
   "display_name": "Python 3 (ipykernel)",
   "language": "python",
   "name": "python3"
  },
  "language_info": {
   "codemirror_mode": {
    "name": "ipython",
    "version": 3
   },
   "file_extension": ".py",
   "mimetype": "text/x-python",
   "name": "python",
   "nbconvert_exporter": "python",
   "pygments_lexer": "ipython3",
   "version": "3.11.4"
  }
 },
 "nbformat": 4,
 "nbformat_minor": 5
}
