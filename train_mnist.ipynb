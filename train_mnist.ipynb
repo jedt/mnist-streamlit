{
 "cells": [
  {
   "cell_type": "code",
   "execution_count": 2,
   "id": "db7f1bac",
   "metadata": {
    "ExecuteTime": {
     "end_time": "2024-01-22T15:43:25.094898Z",
     "start_time": "2024-01-22T15:43:23.767500Z"
    }
   },
   "outputs": [],
   "source": [
    "import torch\n",
    "import torch.nn.functional as F\n",
    "from torchvision.datasets import mnist\n",
    "from torch.utils.data import DataLoader\n",
    "import torchvision.transforms as transforms\n",
    "from model import get_model\n",
    "import matplotlib.pyplot as plt"
   ]
  },
  {
   "cell_type": "code",
   "execution_count": 3,
   "id": "e83013cc",
   "metadata": {
    "ExecuteTime": {
     "end_time": "2024-01-22T15:43:25.701084Z",
     "start_time": "2024-01-22T15:43:25.695270Z"
    }
   },
   "outputs": [],
   "source": [
    "transform = transforms.Compose(\n",
    "    [\n",
    "        transforms.ToTensor(),\n",
    "        transforms.Normalize((0.1307,), (0.3081,)),\n",
    "    ]\n",
    ")"
   ]
  },
  {
   "cell_type": "markdown",
   "id": "56f34a69",
   "metadata": {},
   "source": [
    "## Download the MNIST \n",
    "\n",
    "MNIST is considered the hello world of ML"
   ]
  },
  {
   "cell_type": "code",
   "execution_count": 4,
   "id": "a2c1d150",
   "metadata": {
    "ExecuteTime": {
     "end_time": "2024-01-22T15:43:27.857452Z",
     "start_time": "2024-01-22T15:43:27.820553Z"
    }
   },
   "outputs": [],
   "source": [
    "batch_size = 256\n",
    "train_dataset = mnist.MNIST(\n",
    "    root=\"./dataset\", train=True, download=True, transform=transform\n",
    ")\n",
    "test_dataset = mnist.MNIST(root=\"./dataset\", train=False, transform=transform)"
   ]
  },
  {
   "cell_type": "markdown",
   "id": "a499f465",
   "metadata": {},
   "source": [
    "## Load the training set"
   ]
  },
  {
   "cell_type": "code",
   "execution_count": 5,
   "id": "7ed5c8ef",
   "metadata": {
    "ExecuteTime": {
     "end_time": "2024-01-22T15:43:30.425482Z",
     "start_time": "2024-01-22T15:43:30.420403Z"
    }
   },
   "outputs": [],
   "source": [
    "train_loader = DataLoader(train_dataset, batch_size=batch_size)\n",
    "test_loader = DataLoader(test_dataset, batch_size=batch_size)"
   ]
  },
  {
   "cell_type": "code",
   "execution_count": 6,
   "id": "a6b6f79fcd4c3edc",
   "metadata": {
    "ExecuteTime": {
     "end_time": "2024-01-22T15:43:31.303454Z",
     "start_time": "2024-01-22T15:43:31.301075Z"
    }
   },
   "outputs": [],
   "source": [
    "training_data = train_loader.dataset"
   ]
  },
  {
   "cell_type": "markdown",
   "id": "dae6e994",
   "metadata": {},
   "source": [
    "## Sample the training set\n",
    "The training set is a 70,000 small images of handwritten digits. To sample the data use the DataLoader `dataset` attribute\n",
    "\n",
    "\n",
    " \n",
    "`img, label = training_data[sample_idx]`"
   ]
  },
  {
   "cell_type": "code",
   "execution_count": 7,
   "id": "1e126cc298566c43",
   "metadata": {
    "ExecuteTime": {
     "end_time": "2024-01-22T15:43:33.239953Z",
     "start_time": "2024-01-22T15:43:33.155832Z"
    }
   },
   "outputs": [
    {
     "data": {
      "text/plain": "<Figure size 800x800 with 1 Axes>",
      "image/png": "[encoded data removed]"
     },
     "metadata": {},
     "output_type": "display_data"
    }
   ],
   "source": [
    "figure = plt.figure(figsize=(8, 8))\n",
    "sample_idx = torch.randint(len(training_data), size=(1,)).item()\n",
    "img, label = training_data[sample_idx]\n",
    "plt.title(f'Label: {label}')  # Set the title to the current label\n",
    "plt.axis(\"off\")\n",
    "plt.imshow(img.squeeze(), cmap=\"gray\")\n",
    "plt.show()"
   ]
  },
  {
   "cell_type": "code",
   "execution_count": 8,
   "id": "52d234e428722490",
   "metadata": {
    "ExecuteTime": {
     "end_time": "2024-01-22T15:43:34.294355Z",
     "start_time": "2024-01-22T15:43:34.087750Z"
    }
   },
   "outputs": [
    {
     "data": {
      "text/plain": "<Figure size 800x800 with 9 Axes>",
      "image/png": "[encoded data removed]"
     },
     "metadata": {},
     "output_type": "display_data"
    }
   ],
   "source": [
    "# Create a figure with subplots\n",
    "figure = plt.figure(figsize=(8, 8))\n",
    "cols, rows = 3, 3\n",
    "for i in range(1, cols * rows + 1):\n",
    "    sample_idx = torch.randint(len(training_data), size=(1,)).item()\n",
    "    img, label = training_data[sample_idx]\n",
    "    figure.add_subplot(rows, cols, i)\n",
    "    plt.title(f'Label: {label}')  # Set the title to the current label\n",
    "    plt.axis(\"off\")\n",
    "    plt.imshow(img.squeeze(), cmap=\"gray\")\n",
    "plt.show()"
   ]
  },
  {
   "cell_type": "markdown",
   "id": "e322bbd3da6c0ea3",
   "metadata": {},
   "source": [
    "## Traing method \n",
    "\n",
    "See pytorch.org/docs "
   ]
  },
  {
   "cell_type": "code",
   "execution_count": 9,
   "id": "6844ba9adc73142",
   "metadata": {
    "ExecuteTime": {
     "end_time": "2024-01-22T15:43:36.378455Z",
     "start_time": "2024-01-22T15:43:36.349383Z"
    }
   },
   "outputs": [],
   "source": [
    "def train(model, device, train_loader, optimizer, epoch):\n",
    "    model.train()\n",
    "    epoch_loss = 0\n",
    "    correct = 0\n",
    "    total = 0\n",
    "    for batch_idx, (data, target) in enumerate(train_loader):\n",
    "        data, target = data.to(device), target.to(device)\n",
    "        optimizer.zero_grad()\n",
    "        output = model(data)\n",
    "        loss = F.nll_loss(output, target)\n",
    "        loss.backward()\n",
    "        optimizer.step()\n",
    "\n",
    "        epoch_loss += loss.item()\n",
    "        predicted = output.argmax(\n",
    "            dim=1, keepdim=True\n",
    "        )\n",
    "        correct += predicted.eq(target.view_as(predicted)).sum().item()\n",
    "        total += target.size(0)\n",
    "\n",
    "    epoch_loss /= len(train_loader)\n",
    "    epoch_accuracy = 100.0 * correct / total\n",
    "    print(\n",
    "        \"Train Epoch: {} \\tAverage Loss: {:.6f}\\tAccuracy: {:.2f}%\".format(\n",
    "            epoch, epoch_loss, epoch_accuracy\n",
    "        )\n",
    "    )"
   ]
  },
  {
   "cell_type": "markdown",
   "id": "427e9b89eead6597",
   "metadata": {},
   "source": [
    "## Load the pytorch CNN Model"
   ]
  },
  {
   "cell_type": "code",
   "execution_count": 10,
   "id": "7b4c04270b737f47",
   "metadata": {
    "ExecuteTime": {
     "end_time": "2024-01-22T15:43:38.440711Z",
     "start_time": "2024-01-22T15:43:38.430677Z"
    }
   },
   "outputs": [],
   "source": [
    "Net = get_model()"
   ]
  },
  {
   "cell_type": "markdown",
   "id": "c63ee0cfac513f6c",
   "metadata": {},
   "source": [
    "## Set the Device\n",
    "\n",
    "- torch.device(\"mps\") - if you have a Macbook M1\n",
    "- torch.device(\"cuda\") - if you have nvidia GPU, else\n",
    "- torch.device(\"cpu\") - cpu = takes more than 1 hr if 40 epochs "
   ]
  },
  {
   "cell_type": "code",
   "execution_count": 1,
   "id": "d02687a9",
   "metadata": {
    "ExecuteTime": {
     "end_time": "2024-02-18T06:16:53.417290Z",
     "start_time": "2024-02-18T06:16:53.173538Z"
    }
   },
   "outputs": [
    {
     "ename": "NameError",
     "evalue": "name 'torch' is not defined",
     "output_type": "error",
     "traceback": [
      "\u001B[0;31m---------------------------------------------------------------------------\u001B[0m",
      "\u001B[0;31mNameError\u001B[0m                                 Traceback (most recent call last)",
      "Cell \u001B[0;32mIn[1], line 2\u001B[0m\n\u001B[1;32m      1\u001B[0m device \u001B[38;5;241m=\u001B[39m \u001B[38;5;124m\"\u001B[39m\u001B[38;5;124mcpu\u001B[39m\u001B[38;5;124m\"\u001B[39m\n\u001B[0;32m----> 2\u001B[0m \u001B[38;5;28;01mif\u001B[39;00m \u001B[38;5;129;01mnot\u001B[39;00m \u001B[43mtorch\u001B[49m\u001B[38;5;241m.\u001B[39mbackends\u001B[38;5;241m.\u001B[39mmps\u001B[38;5;241m.\u001B[39mis_available():\n\u001B[1;32m      3\u001B[0m     \u001B[38;5;28;01mif\u001B[39;00m torch\u001B[38;5;241m.\u001B[39mcuda\u001B[38;5;241m.\u001B[39mis_available():\n\u001B[1;32m      4\u001B[0m         device \u001B[38;5;241m=\u001B[39m \u001B[38;5;124m\"\u001B[39m\u001B[38;5;124mcuda\u001B[39m\u001B[38;5;124m\"\u001B[39m\n",
      "\u001B[0;31mNameError\u001B[0m: name 'torch' is not defined"
     ]
    }
   ],
   "source": [
    "device = \"cpu\"\n",
    "if not torch.backends.mps.is_available():\n",
    "    if torch.cuda.is_available():\n",
    "        device = \"cuda\"\n",
    "else:\n",
    "    device = torch.device(\"mps\")\n",
    "    \n",
    "device"
   ]
  },
  {
   "cell_type": "code",
   "execution_count": 12,
   "id": "b4c3c5a2e6c5df32",
   "metadata": {
    "ExecuteTime": {
     "end_time": "2024-01-22T15:43:42.785026Z",
     "start_time": "2024-01-22T15:43:42.755733Z"
    }
   },
   "outputs": [],
   "source": [
    "model = Net().to(device)"
   ]
  },
  {
   "cell_type": "markdown",
   "id": "a68ba0a76dbfafc1",
   "metadata": {},
   "source": [
    "## Setup Adam as the learning algorithm lr=3e-4\n",
    "https://x.com/karpathy/status/801621764144971776?s=20"
   ]
  },
  {
   "cell_type": "code",
   "execution_count": 13,
   "id": "f2ce1f83",
   "metadata": {
    "ExecuteTime": {
     "end_time": "2024-01-22T15:43:44.836564Z",
     "start_time": "2024-01-22T15:43:44.830997Z"
    }
   },
   "outputs": [],
   "source": [
    "optimizer = torch.optim.Adam(model.parameters(), lr=3e-4, weight_decay=1e-5)"
   ]
  },
  {
   "cell_type": "code",
   "execution_count": null,
   "id": "2475e7f0",
   "metadata": {
    "is_executing": true,
    "ExecuteTime": {
     "start_time": "2024-01-22T15:43:46.124137Z"
    }
   },
   "outputs": [
    {
     "name": "stdout",
     "output_type": "stream",
     "text": [
      "Train Epoch: 1 \tAverage Loss: 0.448183\tAccuracy: 86.62%\n",
      "Train Epoch: 2 \tAverage Loss: 0.146646\tAccuracy: 95.78%\n",
      "Train Epoch: 3 \tAverage Loss: 0.099111\tAccuracy: 97.02%\n",
      "Train Epoch: 4 \tAverage Loss: 0.080594\tAccuracy: 97.63%\n",
      "Train Epoch: 5 \tAverage Loss: 0.068451\tAccuracy: 97.95%\n",
      "Train Epoch: 6 \tAverage Loss: 0.059434\tAccuracy: 98.17%\n",
      "Train Epoch: 7 \tAverage Loss: 0.054820\tAccuracy: 98.35%\n",
      "Train Epoch: 8 \tAverage Loss: 0.047790\tAccuracy: 98.52%\n",
      "Train Epoch: 9 \tAverage Loss: 0.045585\tAccuracy: 98.61%\n",
      "Train Epoch: 10 \tAverage Loss: 0.041083\tAccuracy: 98.72%\n",
      "Train Epoch: 11 \tAverage Loss: 0.039155\tAccuracy: 98.80%\n",
      "Train Epoch: 12 \tAverage Loss: 0.034596\tAccuracy: 98.85%\n",
      "Train Epoch: 13 \tAverage Loss: 0.032153\tAccuracy: 98.97%\n",
      "Train Epoch: 14 \tAverage Loss: 0.030247\tAccuracy: 99.08%\n",
      "Train Epoch: 15 \tAverage Loss: 0.028366\tAccuracy: 99.07%\n",
      "Train Epoch: 16 \tAverage Loss: 0.027138\tAccuracy: 99.12%\n",
      "Train Epoch: 17 \tAverage Loss: 0.025025\tAccuracy: 99.19%\n",
      "Train Epoch: 18 \tAverage Loss: 0.023326\tAccuracy: 99.22%\n",
      "Train Epoch: 19 \tAverage Loss: 0.022739\tAccuracy: 99.25%\n",
      "Train Epoch: 20 \tAverage Loss: 0.020963\tAccuracy: 99.28%\n",
      "Train Epoch: 21 \tAverage Loss: 0.020797\tAccuracy: 99.29%\n",
      "Train Epoch: 22 \tAverage Loss: 0.020607\tAccuracy: 99.28%\n",
      "Train Epoch: 23 \tAverage Loss: 0.018190\tAccuracy: 99.39%\n",
      "Train Epoch: 24 \tAverage Loss: 0.018696\tAccuracy: 99.41%\n",
      "Train Epoch: 25 \tAverage Loss: 0.016992\tAccuracy: 99.41%\n",
      "Train Epoch: 26 \tAverage Loss: 0.017229\tAccuracy: 99.41%\n",
      "Train Epoch: 27 \tAverage Loss: 0.016266\tAccuracy: 99.44%\n",
      "Train Epoch: 28 \tAverage Loss: 0.014746\tAccuracy: 99.51%\n",
      "Train Epoch: 29 \tAverage Loss: 0.013599\tAccuracy: 99.57%\n",
      "Train Epoch: 30 \tAverage Loss: 0.013418\tAccuracy: 99.53%\n",
      "Train Epoch: 31 \tAverage Loss: 0.012943\tAccuracy: 99.57%\n",
      "Train Epoch: 32 \tAverage Loss: 0.012656\tAccuracy: 99.56%\n"
     ]
    }
   ],
   "source": [
    "num_epochs = 80\n",
    "for epoch in range(1, num_epochs + 1):\n",
    "    train(model, device, train_loader, optimizer, epoch)\n",
    "\n",
    "model.to(device)\n",
    "torch.save(model.state_dict(), \"model/mnist.pth\")"
   ]
  },
  {
   "cell_type": "code",
   "execution_count": null,
   "id": "432512989af17d2",
   "metadata": {},
   "outputs": [],
   "source": []
  }
 ],
 "metadata": {
  "kernelspec": {
   "display_name": "Python 3 (ipykernel)",
   "language": "python",
   "name": "python3"
  },
  "language_info": {
   "codemirror_mode": {
    "name": "ipython",
    "version": 3
   },
   "file_extension": ".py",
   "mimetype": "text/x-python",
   "name": "python",
   "nbconvert_exporter": "python",
   "pygments_lexer": "ipython3",
   "version": "3.11.4"
  }
 },
 "nbformat": 4,
 "nbformat_minor": 5
}
