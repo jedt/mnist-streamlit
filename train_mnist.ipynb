{
 "cells": [
  {
   "cell_type": "code",
   "execution_count": 11,
   "id": "db7f1bac",
   "metadata": {
    "ExecuteTime": {
     "end_time": "2024-01-22T10:21:15.031253Z",
     "start_time": "2024-01-22T10:21:14.766768Z"
    }
   },
   "outputs": [],
   "source": [
    "import torchvision.transforms as transforms\n",
    "import torch\n",
    "import torch.nn as nn\n",
    "import torch.nn.functional as F\n",
    "from torchvision.datasets import mnist\n",
    "from torch.utils.data import DataLoader\n",
    "import torchvision.transforms as transforms\n",
    "from model import get_model\n",
    "import numpy as np\n",
    "import matplotlib.pyplot as plt"
   ]
  },
  {
   "cell_type": "code",
   "execution_count": 5,
   "id": "e83013cc",
   "metadata": {
    "ExecuteTime": {
     "end_time": "2024-01-22T10:12:55.272101Z",
     "start_time": "2024-01-22T10:12:55.269150Z"
    }
   },
   "outputs": [],
   "source": [
    "transform = transforms.Compose(\n",
    "    [\n",
    "        transforms.ToTensor(),\n",
    "        transforms.Normalize((0.1307,), (0.3081,)),\n",
    "    ]\n",
    ")"
   ]
  },
  {
   "cell_type": "markdown",
   "id": "56f34a69",
   "metadata": {},
   "source": [
    "## Download the MNIST \n",
    "\n",
    "MNIST is considered the hello world of ML"
   ]
  },
  {
   "cell_type": "code",
   "execution_count": 16,
   "id": "a2c1d150",
   "metadata": {
    "ExecuteTime": {
     "end_time": "2024-01-22T10:26:17.654709Z",
     "start_time": "2024-01-22T10:26:17.627907Z"
    }
   },
   "outputs": [],
   "source": [
    "batch_size = 256\n",
    "train_dataset = mnist.MNIST(\n",
    "    root=\"./dataset\", train=True, download=True, transform=transform\n",
    ")\n",
    "test_dataset = mnist.MNIST(root=\"./dataset\", train=False, transform=transform)"
   ]
  },
  {
   "cell_type": "markdown",
   "id": "a499f465",
   "metadata": {},
   "source": [
    "## Load the training set"
   ]
  },
  {
   "cell_type": "code",
   "execution_count": 17,
   "id": "7ed5c8ef",
   "metadata": {
    "ExecuteTime": {
     "end_time": "2024-01-22T10:26:27.198900Z",
     "start_time": "2024-01-22T10:26:27.194960Z"
    }
   },
   "outputs": [],
   "source": [
    "train_loader = DataLoader(train_dataset, batch_size=batch_size)\n",
    "test_loader = DataLoader(test_dataset, batch_size=batch_size)"
   ]
  },
  {
   "cell_type": "code",
   "outputs": [],
   "source": [
    "training_data = train_loader.dataset"
   ],
   "metadata": {
    "collapsed": false,
    "ExecuteTime": {
     "end_time": "2024-01-22T10:56:20.061533Z",
     "start_time": "2024-01-22T10:56:20.057117Z"
    }
   },
   "id": "a6b6f79fcd4c3edc",
   "execution_count": 35
  },
  {
   "cell_type": "markdown",
   "id": "dae6e994",
   "metadata": {},
   "source": [
    "## Sample the training set\n",
    "The training set is a 70,000 small images of handwritten digits. To sample the data use the `dataset`\n",
    " \n",
    "`img, label = training_data[sample_idx]`"
   ]
  },
  {
   "cell_type": "code",
   "outputs": [
    {
     "data": {
      "text/plain": "<Figure size 800x800 with 1 Axes>",
      "image/png": "[encoded data removed]"
     },
     "metadata": {},
     "output_type": "display_data"
    }
   ],
   "source": [
    "figure = plt.figure(figsize=(8, 8))\n",
    "sample_idx = torch.randint(len(training_data), size=(1,)).item()\n",
    "img, label = training_data[sample_idx]\n",
    "plt.title(f'Label: {label}')  # Set the title to the current label\n",
    "plt.axis(\"off\")\n",
    "plt.imshow(img.squeeze(), cmap=\"gray\")\n",
    "plt.show()"
   ],
   "metadata": {
    "collapsed": false,
    "ExecuteTime": {
     "end_time": "2024-01-22T10:58:19.906005Z",
     "start_time": "2024-01-22T10:58:19.840169Z"
    }
   },
   "id": "1e126cc298566c43",
   "execution_count": 42
  },
  {
   "cell_type": "code",
   "outputs": [
    {
     "data": {
      "text/plain": "<Figure size 800x800 with 9 Axes>",
      "image/png": "[encoded data removed]"
     },
     "metadata": {},
     "output_type": "display_data"
    }
   ],
   "source": [
    "# Create a figure with subplots\n",
    "figure = plt.figure(figsize=(8, 8))\n",
    "cols, rows = 3, 3\n",
    "for i in range(1, cols * rows + 1):\n",
    "    sample_idx = torch.randint(len(training_data), size=(1,)).item()\n",
    "    img, label = training_data[sample_idx]\n",
    "    figure.add_subplot(rows, cols, i)\n",
    "    plt.title(f'Label: {label}')  # Set the title to the current label\n",
    "    plt.axis(\"off\")\n",
    "    plt.imshow(img.squeeze(), cmap=\"gray\")\n",
    "plt.show()"
   ],
   "metadata": {
    "collapsed": false,
    "ExecuteTime": {
     "end_time": "2024-01-22T10:58:30.737945Z",
     "start_time": "2024-01-22T10:58:30.553267Z"
    }
   },
   "id": "52d234e428722490",
   "execution_count": 43
  },
  {
   "cell_type": "code",
   "outputs": [],
   "source": [
    "def train(model, device, train_loader, optimizer, epoch):\n",
    "    model.train()\n",
    "    epoch_loss = 0\n",
    "    correct = 0\n",
    "    total = 0\n",
    "    for batch_idx, (data, target) in enumerate(train_loader):\n",
    "        data, target = data.to(device), target.to(device)\n",
    "        optimizer.zero_grad()\n",
    "        output = model(data)\n",
    "        loss = F.nll_loss(output, target)\n",
    "        loss.backward()\n",
    "        optimizer.step()\n",
    "\n",
    "        epoch_loss += loss.item()\n",
    "        predicted = output.argmax(\n",
    "            dim=1, keepdim=True\n",
    "        )\n",
    "        correct += predicted.eq(target.view_as(predicted)).sum().item()\n",
    "        total += target.size(0)\n",
    "\n",
    "    epoch_loss /= len(train_loader)\n",
    "    epoch_accuracy = 100.0 * correct / total\n",
    "    print(\n",
    "        \"Train Epoch: {} \\tAverage Loss: {:.6f}\\tAccuracy: {:.2f}%\".format(\n",
    "            epoch, epoch_loss, epoch_accuracy\n",
    "        )\n",
    "    )"
   ],
   "metadata": {
    "collapsed": false,
    "ExecuteTime": {
     "end_time": "2024-01-22T10:29:59.421504Z",
     "start_time": "2024-01-22T10:29:59.415951Z"
    }
   },
   "id": "6844ba9adc73142",
   "execution_count": 24
  },
  {
   "cell_type": "markdown",
   "source": [
    "## Load the pytorch CNN Model"
   ],
   "metadata": {
    "collapsed": false
   },
   "id": "427e9b89eead6597"
  },
  {
   "cell_type": "code",
   "outputs": [],
   "source": [
    "Net = get_model()"
   ],
   "metadata": {
    "collapsed": false,
    "ExecuteTime": {
     "end_time": "2024-01-22T10:59:09.048801Z",
     "start_time": "2024-01-22T10:59:09.044288Z"
    }
   },
   "id": "7b4c04270b737f47",
   "execution_count": 44
  },
  {
   "cell_type": "markdown",
   "source": [
    "## Set the Device\n",
    "\n",
    "- torch.device(\"mps\") - if you have a Macbook M1\n",
    "- torch.device(\"cuda\") - if you have nvidia GPU, else\n",
    "- torch.device(\"cpu\") - cpu = takes more than 1 hr if 40 epochs "
   ],
   "metadata": {
    "collapsed": false
   },
   "id": "c63ee0cfac513f6c"
  },
  {
   "cell_type": "code",
   "execution_count": 64,
   "id": "d02687a9",
   "metadata": {
    "ExecuteTime": {
     "end_time": "2024-01-22T13:26:33.575516Z",
     "start_time": "2024-01-22T13:26:33.572866Z"
    }
   },
   "outputs": [
    {
     "data": {
      "text/plain": "device(type='mps')"
     },
     "execution_count": 64,
     "metadata": {},
     "output_type": "execute_result"
    }
   ],
   "source": [
    "device = \"cpu\"\n",
    "if not torch.backends.mps.is_available():\n",
    "    if torch.backends.cuda.is_avaiable():\n",
    "        device = \"cuda\"\n",
    "else:\n",
    "    device = torch.device(\"mps\")\n",
    "    \n",
    "device"
   ]
  },
  {
   "cell_type": "code",
   "outputs": [],
   "source": [
    "model = Net().to(device)"
   ],
   "metadata": {
    "collapsed": false,
    "ExecuteTime": {
     "end_time": "2024-01-22T13:26:37.416280Z",
     "start_time": "2024-01-22T13:26:37.397410Z"
    }
   },
   "id": "b4c3c5a2e6c5df32",
   "execution_count": 65
  },
  {
   "cell_type": "markdown",
   "source": [
    "## Setup the Adam as the stochastic gradient descent algorithm"
   ],
   "metadata": {
    "collapsed": false
   },
   "id": "a68ba0a76dbfafc1"
  },
  {
   "cell_type": "code",
   "execution_count": 46,
   "id": "f2ce1f83",
   "metadata": {
    "ExecuteTime": {
     "end_time": "2024-01-22T10:59:13.285911Z",
     "start_time": "2024-01-22T10:59:13.281062Z"
    }
   },
   "outputs": [],
   "source": [
    "optimizer = torch.optim.Adam(model.parameters(), lr=0.001, weight_decay=1e-5)"
   ]
  },
  {
   "cell_type": "code",
   "execution_count": null,
   "id": "2475e7f0",
   "metadata": {
    "is_executing": true,
    "ExecuteTime": {
     "start_time": "2024-01-22T13:27:10.354594Z"
    }
   },
   "outputs": [
    {
     "name": "stdout",
     "output_type": "stream",
     "text": [
      "Train Epoch: 1 \tAverage Loss: 2.305118\tAccuracy: 11.23%\n"
     ]
    }
   ],
   "source": [
    "num_epochs = 40\n",
    "for epoch in range(1, num_epochs + 1):\n",
    "    train(model, device, train_loader, optimizer, epoch)\n",
    "\n",
    "model.to(device)\n",
    "torch.save(model.state_dict(), \"model/mnist.pth\")"
   ]
  },
  {
   "cell_type": "code",
   "outputs": [],
   "source": [],
   "metadata": {
    "collapsed": false
   },
   "id": "432512989af17d2"
  }
 ],
 "metadata": {
  "kernelspec": {
   "display_name": "Python 3 (ipykernel)",
   "language": "python",
   "name": "python3"
  },
  "language_info": {
   "codemirror_mode": {
    "name": "ipython",
    "version": 3
   },
   "file_extension": ".py",
   "mimetype": "text/x-python",
   "name": "python",
   "nbconvert_exporter": "python",
   "pygments_lexer": "ipython3",
   "version": "3.11.4"
  }
 },
 "nbformat": 4,
 "nbformat_minor": 5
}
